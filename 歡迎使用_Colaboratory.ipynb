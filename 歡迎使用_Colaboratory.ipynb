{
  "cells": [
    {
      "cell_type": "code",
      "source": [
        "from sklearn.datasets import load_iris #資料集\n",
        "from sklearn.model_selection import train_test_split #分割資料\n",
        "from sklearn.cluster import KMeans #分群\n",
        "from sklearn.cluster import DBSCAN #聚類\n",
        "from sklearn.svm import SVC\n",
        "from sklearn.decomposition import PCA #降維\n",
        "import pandas as pd #資料表\n",
        "import numpy as np #陣列\n",
        "\n",
        "\n",
        "# 1. 載入資料\n",
        "iris = load_iris()\n",
        "data = pd.DataFrame(data= np.c_[iris['data'], iris['target']],\n",
        "              columns= ['SepalLengthCm','SepalWidthCm','PetalLengthCm','PetalWidthCm','Species']) #將data及target合併為新的陣列\n",
        "X = data.drop(labels=['Species'],axis=1).values #移除Species列並取得剩下欄位資料\n",
        "y = data['Species'].values #取得欄位資料並轉換成陣列(values)\n",
        "\n",
        "X_train,  X_test, y_train, y_test = train_test_split(X, y, test_size=0.2, random_state=42) #將資料切分為訓練和測試資料\n",
        "\n",
        "# 2. 使用 K-means 進行初始聚類\n",
        "kmeans = KMeans(n_clusters=3, n_init='auto') #建立K-means模型，將資料分成3個簇、使用自動的初始值數量\n",
        "kmeans_label_train = kmeans.fit_predict(X_train) #訓練模型並預測訓練資料的聚類標籤\n",
        "kmeans_label_test = kmeans.predict(X_test) #模型已訓練好，僅需預測測試資料的聚類標籤\n",
        "\n",
        "# 3. 使用 DBSCAN 進行進一步聚類\n",
        "dbscan = DBSCAN(eps=0.3, min_samples=5) #建立DBSCAN模型，半徑=0.3、最小樣本數=5\n",
        "dbscan_label_train = dbscan.fit_predict(X_train)\n",
        "dbscan_label_test = dbscan.fit_predict(X_test)\n",
        "\n",
        "# 4. 整合 K-means 和 DBSCAN 的結果作為 SVM 的輸入\n",
        "X_train_combine = np.column_stack((X_train, kmeans_label_train, dbscan_label_train)) #將訓練資料和聚類標籤合併\n",
        "X_test_combine = np.column_stack((X_test, kmeans_label_test, dbscan_label_test)) #將測試資料和聚類標籤合併\n",
        "\n",
        "# 5. 降維\n",
        "from sklearn.decomposition import PCA\n",
        "pca = PCA(n_components=2, iterated_power=1) #將資料降至2維、只執行一次\n",
        "train_reduced = pca.fit_transform(X_train_combine) #降維並轉換資料\n",
        "test_reduced = pca.fit_transform(X_test_combine) #降維並轉換資料\n",
        "\n",
        "# 6. 使用 SVM 進行分類\n",
        "svm = SVC(kernel='linear', C=1)  # 建立SVM模型，用線性核函數、C:限制模型的複雜度\n",
        "svm.fit(train_reduced, y_train)  # 帶入svm訓練模型\n",
        "# 7. 對測試資料進行預測\n",
        "predictions = svm.predict(test_reduced)  # 使用已訓練好的SVM模型，對測試資料進行分類預測\n",
        "accuracy = svm.score(train_reduced, y_train) #計算準確率\n",
        "\n",
        "print(\"預測結果:\", predictions)\n",
        "print(\"準確率:\", accuracy)"
      ],
      "metadata": {
        "id": "anlOngtD_v-h",
        "outputId": "949acca1-3647-4154-e13a-204f6c3447b8",
        "colab": {
          "base_uri": "https://localhost:8080/"
        }
      },
      "execution_count": 1,
      "outputs": [
        {
          "output_type": "stream",
          "name": "stdout",
          "text": [
            "預測結果: [1. 2. 0. 1. 0. 2. 1. 1. 1. 1. 1. 2. 2. 2. 2. 1. 0. 1. 1. 0. 2. 0. 2. 0.\n",
            " 0. 1. 0. 0. 2. 2.]\n",
            "準確率: 0.9666666666666667\n"
          ]
        }
      ]
    }
  ],
  "metadata": {
    "colab": {
      "name": "歡迎使用 Colaboratory",
      "toc_visible": true,
      "provenance": [],
      "gpuType": "T4"
    },
    "kernelspec": {
      "display_name": "Python 3",
      "name": "python3"
    },
    "accelerator": "GPU"
  },
  "nbformat": 4,
  "nbformat_minor": 0
}